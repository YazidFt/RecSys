{
 "cells": [
  {
   "cell_type": "markdown",
   "metadata": {},
   "source": [
    "### Recommender system with ALS ( Alternating least squares) Collaborative Filtring approach\n",
    "\n",
    "* In this notebook we will use collaborative filtering approach for making predictions. To find `latent vector representation` for users and items `explicit ALS` method is used.\n",
    "* For the the implementation we use Apache Spark . Refer to the Spark MLLib documentation for Python API details:   https://spark.apache.org/docs/2.1.0/api/python/pyspark.mllib.html"
   ]
  },
  {
   "cell_type": "code",
   "execution_count": 1,
   "metadata": {},
   "outputs": [],
   "source": [
    "import findspark\n",
    "findspark.init()\n",
    "\n",
    "import pandas as pd\n",
    "import numpy as np\n",
    "from math import sqrt\n",
    "\n",
    "from sklearn.model_selection import KFold\n",
    "from pyspark.mllib.recommendation import ALS, Rating\n",
    "from pyspark import SparkConf, SparkContext"
   ]
  },
  {
   "cell_type": "code",
   "execution_count": 2,
   "metadata": {},
   "outputs": [],
   "source": [
    "sc = SparkContext(conf=SparkConf().setAppName(\"MyApp\").setMaster(\"local\"))"
   ]
  },
  {
   "cell_type": "code",
   "execution_count": 3,
   "metadata": {},
   "outputs": [],
   "source": [
    "#Data\n",
    "data = sc.textFile('ml-100k/u.data')"
   ]
  },
  {
   "cell_type": "code",
   "execution_count": 4,
   "metadata": {},
   "outputs": [],
   "source": [
    "#Remove the header\n",
    "header = data.first()\n",
    "data = data.filter(lambda r: r != header)"
   ]
  },
  {
   "cell_type": "code",
   "execution_count": 5,
   "metadata": {},
   "outputs": [],
   "source": [
    "data = data.map(lambda r: r.split('\\t'))"
   ]
  },
  {
   "cell_type": "code",
   "execution_count": 6,
   "metadata": {},
   "outputs": [],
   "source": [
    "data = data.map(lambda r: Rating(int(r[0]), int(r[1]), float(r[2]))).repartition(64)"
   ]
  },
  {
   "cell_type": "code",
   "execution_count": 7,
   "metadata": {},
   "outputs": [
    {
     "data": {
      "text/plain": [
       "[Rating(user=268, product=231, rating=4.0)]"
      ]
     },
     "execution_count": 7,
     "metadata": {},
     "output_type": "execute_result"
    }
   ],
   "source": [
    "data.take(1)"
   ]
  },
  {
   "cell_type": "code",
   "execution_count": 8,
   "metadata": {},
   "outputs": [],
   "source": [
    "##3-Fold cross validation data split\n",
    "weights = [1,1,1]\n",
    "RDDtr1, RDDtr2, RDDtr3 = data.randomSplit(weights)\n",
    "rdds = [(RDDtr1.union(RDDtr2),RDDtr3), (RDDtr1.union(RDDtr3),RDDtr2), (RDDtr2.union(RDDtr3),RDDtr1)]"
   ]
  },
  {
   "cell_type": "code",
   "execution_count": null,
   "metadata": {},
   "outputs": [],
   "source": [
    "#Train three ALS models\n",
    "RMSE_scores = []\n",
    "\n",
    "for i in range(len(weights)):\n",
    "    rddtrain = rdds[i][0] \n",
    "    rddtest  = rdds[i][1]\n",
    "    \n",
    "    model = ALS.train(rddtrain, 2, iterations=5, lambda_=0.1)\n",
    "    \n",
    "    predictions = model.predictAll(rddtest.map(lambda r: (r[0], r[1])))\n",
    "    \n",
    "    #Join the resulting rdd with rddtest\n",
    "    preds_ratings = predictions.map(lambda r: ((r[0],r[1]), r[2])).join(rddtest.map(lambda r: ((r[0],r[1]), r[2]))).values()\n",
    "    \n",
    "    #Compute RMSE\n",
    "    score = sqrt(preds_ratings.map(lambda r: (r[0] - r[1])**2).mean())\n",
    "    \n",
    "    RMSE_scores.append(score)"
   ]
  },
  {
   "cell_type": "code",
   "execution_count": null,
   "metadata": {},
   "outputs": [],
   "source": [
    "RMSE_scores"
   ]
  },
  {
   "cell_type": "code",
   "execution_count": null,
   "metadata": {},
   "outputs": [],
   "source": []
  }
 ],
 "metadata": {
  "kernelspec": {
   "display_name": "Python 3",
   "language": "python",
   "name": "python3"
  },
  "language_info": {
   "codemirror_mode": {
    "name": "ipython",
    "version": 3
   },
   "file_extension": ".py",
   "mimetype": "text/x-python",
   "name": "python",
   "nbconvert_exporter": "python",
   "pygments_lexer": "ipython3",
   "version": "3.7.1"
  }
 },
 "nbformat": 4,
 "nbformat_minor": 2
}
